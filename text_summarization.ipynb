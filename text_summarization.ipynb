{
 "cells": [
  {
   "cell_type": "code",
   "execution_count": 1,
   "metadata": {},
   "outputs": [],
   "source": [
    "import spacy\n",
    "from spacy.lang.en.stop_words import STOP_WORDS"
   ]
  },
  {
   "cell_type": "code",
   "execution_count": 2,
   "metadata": {},
   "outputs": [],
   "source": [
    "text = '''\n",
    "Natural language processing (NLP) refers to the branch of computer science—and more specifically, the branch of artificial intelligence or AI—concerned with giving computers the ability to understand text and spoken words in much the same way human beings can.\n",
    "NLP combines computational linguistics—rule-based modeling of human language—with statistical, machine learning, and deep learning models. Together, these technologies enable computers to process human language in the form of text or voice data and to ‘understand’ its full meaning, complete with the speaker or writer’s intent and sentiment.\n",
    "NLP drives computer programs that translate text from one language to another, respond to spoken commands, and summarize large volumes of text rapidly—even in real time. There’s a good chance you’ve interacted with NLP in the form of voice-operated GPS systems, digital assistants, speech-to-text dictation software, customer service chatbots, and other consumer conveniences. But NLP also plays a growing role in enterprise solutions that help streamline business operations, increase employee productivity, and simplify mission-critical business processes.\n",
    "Human language is filled with ambiguities that make it incredibly difficult to write software that accurately determines the intended meaning of text or voice data. Homonyms, homophones, sarcasm, idioms, metaphors, grammar and usage exceptions, variations in sentence structure—these just a few of the irregularities of human language that take humans years to learn, but that programmers must teach natural language-driven applications to recognize and understand accurately from the start, if those applications are going to be useful.\n",
    "Several NLP tasks break down human text and voice data in ways that help the computer make sense of what it's ingesting. Some of these tasks include the following:\n",
    "Speech recognition, also called speech-to-text, is the task of reliably converting voice data into text data. Speech recognition is required for any application that follows voice commands or answers spoken questions. What makes speech recognition especially challenging is the way people talk—quickly, slurring words together, with varying emphasis and intonation, in different accents, and often using incorrect grammar.\n",
    "Part of speech tagging, also called grammatical tagging, is the process of determining the part of speech of a particular word or piece of text based on its use and context. Part of speech identifies ‘make’ as a verb in ‘I can make a paper plane,’ and as a noun in ‘What make of car do you own?’\n",
    "Word sense disambiguation is the selection of the meaning of a word with multiple meanings  through a process of semantic analysis that determine the word that makes the most sense in the given context. For example, word sense disambiguation helps distinguish the meaning of the verb 'make' in ‘make the grade’ (achieve) vs. ‘make a bet’ (place).\n",
    "Named entity recognition, or NEM, identifies words or phrases as useful entities. NEM identifies 'Kentucky' as a location or 'Fred' as a man's name.\n",
    "Co-reference resolution is the task of identifying if and when two words refer to the same entity. The most common example is determining the person or object to which a certain pronoun refers (e.g., ‘she’ = ‘Mary’),  but it can also involve identifying a metaphor or an idiom in the text  (e.g., an instance in which 'bear' isn't an animal but a large hairy person).\n",
    "Sentiment analysis attempts to extract subjective qualities—attitudes, emotions, sarcasm, confusion, suspicion—from text.\n",
    "Natural language generation is sometimes described as the opposite of speech recognition or speech-to-text; it's the task of putting structured information into human language.\n",
    "'''"
   ]
  },
  {
   "cell_type": "code",
   "execution_count": 3,
   "metadata": {},
   "outputs": [],
   "source": [
    "nlp = spacy.load('en_core_web_sm')"
   ]
  },
  {
   "cell_type": "code",
   "execution_count": 4,
   "metadata": {},
   "outputs": [],
   "source": [
    "doc = nlp(text=text)"
   ]
  },
  {
   "cell_type": "code",
   "execution_count": 5,
   "metadata": {},
   "outputs": [],
   "source": [
    "tokens = [token.text for token in doc]"
   ]
  },
  {
   "cell_type": "code",
   "execution_count": 6,
   "metadata": {},
   "outputs": [],
   "source": [
    "from string import punctuation"
   ]
  },
  {
   "cell_type": "code",
   "execution_count": 7,
   "metadata": {},
   "outputs": [],
   "source": [
    "punctuation = punctuation + '\\n' + '—' + '’' + '‘'"
   ]
  },
  {
   "cell_type": "code",
   "execution_count": 8,
   "metadata": {},
   "outputs": [],
   "source": [
    "word_freq = {}\n",
    "\n",
    "stop_word = list(STOP_WORDS)\n",
    "\n",
    "for word in doc:\n",
    "    if word.text.lower() not in stop_word:\n",
    "        if word.text.lower() not in punctuation:\n",
    "            if word.text not in word_freq.keys():\n",
    "                word_freq[word.text] = 1\n",
    "            else:\n",
    "                word_freq[word.text] +=1"
   ]
  },
  {
   "cell_type": "code",
   "execution_count": 9,
   "metadata": {},
   "outputs": [],
   "source": [
    "max_word = max(word_freq.values())"
   ]
  },
  {
   "cell_type": "code",
   "execution_count": 10,
   "metadata": {},
   "outputs": [],
   "source": [
    "for word in word_freq.keys():\n",
    "    word_freq[word] = word_freq[word]/max_word"
   ]
  },
  {
   "cell_type": "code",
   "execution_count": 11,
   "metadata": {},
   "outputs": [
    {
     "name": "stdout",
     "output_type": "stream",
     "text": [
      "{'Natural': 0.15384615384615385, 'language': 0.6923076923076923, 'processing': 0.07692307692307693, 'NLP': 0.46153846153846156, 'refers': 0.15384615384615385, 'branch': 0.15384615384615385, 'computer': 0.23076923076923078, 'science': 0.07692307692307693, 'specifically': 0.07692307692307693, 'artificial': 0.07692307692307693, 'intelligence': 0.07692307692307693, 'AI': 0.07692307692307693, 'concerned': 0.07692307692307693, 'giving': 0.07692307692307693, 'computers': 0.15384615384615385, 'ability': 0.07692307692307693, 'understand': 0.23076923076923078, 'text': 1.0, 'spoken': 0.23076923076923078, 'words': 0.3076923076923077, 'way': 0.15384615384615385, 'human': 0.46153846153846156, 'beings': 0.07692307692307693, 'combines': 0.07692307692307693, 'computational': 0.07692307692307693, 'linguistics': 0.07692307692307693, 'rule': 0.07692307692307693, 'based': 0.15384615384615385, 'modeling': 0.07692307692307693, 'statistical': 0.07692307692307693, 'machine': 0.07692307692307693, 'learning': 0.15384615384615385, 'deep': 0.07692307692307693, 'models': 0.07692307692307693, 'technologies': 0.07692307692307693, 'enable': 0.07692307692307693, 'process': 0.23076923076923078, 'form': 0.15384615384615385, 'voice': 0.46153846153846156, 'data': 0.38461538461538464, 'meaning': 0.3076923076923077, 'complete': 0.07692307692307693, 'speaker': 0.07692307692307693, 'writer': 0.07692307692307693, 'intent': 0.07692307692307693, 'sentiment': 0.07692307692307693, 'drives': 0.07692307692307693, 'programs': 0.07692307692307693, 'translate': 0.07692307692307693, 'respond': 0.07692307692307693, 'commands': 0.15384615384615385, 'summarize': 0.07692307692307693, 'large': 0.15384615384615385, 'volumes': 0.07692307692307693, 'rapidly': 0.07692307692307693, 'real': 0.07692307692307693, 'time': 0.07692307692307693, 'good': 0.07692307692307693, 'chance': 0.07692307692307693, 'interacted': 0.07692307692307693, 'operated': 0.07692307692307693, 'GPS': 0.07692307692307693, 'systems': 0.07692307692307693, 'digital': 0.07692307692307693, 'assistants': 0.07692307692307693, 'speech': 0.6153846153846154, 'dictation': 0.07692307692307693, 'software': 0.15384615384615385, 'customer': 0.07692307692307693, 'service': 0.07692307692307693, 'chatbots': 0.07692307692307693, 'consumer': 0.07692307692307693, 'conveniences': 0.07692307692307693, 'plays': 0.07692307692307693, 'growing': 0.07692307692307693, 'role': 0.07692307692307693, 'enterprise': 0.07692307692307693, 'solutions': 0.07692307692307693, 'help': 0.15384615384615385, 'streamline': 0.07692307692307693, 'business': 0.15384615384615385, 'operations': 0.07692307692307693, 'increase': 0.07692307692307693, 'employee': 0.07692307692307693, 'productivity': 0.07692307692307693, 'simplify': 0.07692307692307693, 'mission': 0.07692307692307693, 'critical': 0.07692307692307693, 'processes': 0.07692307692307693, 'Human': 0.07692307692307693, 'filled': 0.07692307692307693, 'ambiguities': 0.07692307692307693, 'incredibly': 0.07692307692307693, 'difficult': 0.07692307692307693, 'write': 0.07692307692307693, 'accurately': 0.15384615384615385, 'determines': 0.07692307692307693, 'intended': 0.07692307692307693, 'Homonyms': 0.07692307692307693, 'homophones': 0.07692307692307693, 'sarcasm': 0.15384615384615385, 'idioms': 0.07692307692307693, 'metaphors': 0.07692307692307693, 'grammar': 0.15384615384615385, 'usage': 0.07692307692307693, 'exceptions': 0.07692307692307693, 'variations': 0.07692307692307693, 'sentence': 0.07692307692307693, 'structure': 0.07692307692307693, 'irregularities': 0.07692307692307693, 'humans': 0.07692307692307693, 'years': 0.07692307692307693, 'learn': 0.07692307692307693, 'programmers': 0.07692307692307693, 'teach': 0.07692307692307693, 'natural': 0.07692307692307693, 'driven': 0.07692307692307693, 'applications': 0.15384615384615385, 'recognize': 0.07692307692307693, 'start': 0.07692307692307693, 'going': 0.07692307692307693, 'useful': 0.15384615384615385, 'tasks': 0.15384615384615385, 'break': 0.07692307692307693, 'ways': 0.07692307692307693, 'sense': 0.3076923076923077, 'ingesting': 0.07692307692307693, 'include': 0.07692307692307693, 'following': 0.07692307692307693, 'Speech': 0.15384615384615385, 'recognition': 0.38461538461538464, 'called': 0.15384615384615385, 'task': 0.23076923076923078, 'reliably': 0.07692307692307693, 'converting': 0.07692307692307693, 'required': 0.07692307692307693, 'application': 0.07692307692307693, 'follows': 0.07692307692307693, 'answers': 0.07692307692307693, 'questions': 0.07692307692307693, 'makes': 0.15384615384615385, 'especially': 0.07692307692307693, 'challenging': 0.07692307692307693, 'people': 0.07692307692307693, 'talk': 0.07692307692307693, 'quickly': 0.07692307692307693, 'slurring': 0.07692307692307693, 'varying': 0.07692307692307693, 'emphasis': 0.07692307692307693, 'intonation': 0.07692307692307693, 'different': 0.07692307692307693, 'accents': 0.07692307692307693, 'incorrect': 0.07692307692307693, 'tagging': 0.15384615384615385, 'grammatical': 0.07692307692307693, 'determining': 0.15384615384615385, 'particular': 0.07692307692307693, 'word': 0.3076923076923077, 'piece': 0.07692307692307693, 'use': 0.07692307692307693, 'context': 0.15384615384615385, 'identifies': 0.23076923076923078, 'verb': 0.15384615384615385, 'paper': 0.07692307692307693, 'plane': 0.07692307692307693, 'noun': 0.07692307692307693, 'car': 0.07692307692307693, 'Word': 0.07692307692307693, 'disambiguation': 0.15384615384615385, 'selection': 0.07692307692307693, 'multiple': 0.07692307692307693, 'meanings': 0.07692307692307693, ' ': 0.23076923076923078, 'semantic': 0.07692307692307693, 'analysis': 0.15384615384615385, 'determine': 0.07692307692307693, 'given': 0.07692307692307693, 'example': 0.15384615384615385, 'helps': 0.07692307692307693, 'distinguish': 0.07692307692307693, 'grade': 0.07692307692307693, 'achieve': 0.07692307692307693, 'vs.': 0.07692307692307693, 'bet': 0.07692307692307693, 'place': 0.07692307692307693, 'Named': 0.07692307692307693, 'entity': 0.15384615384615385, 'NEM': 0.15384615384615385, 'phrases': 0.07692307692307693, 'entities': 0.07692307692307693, 'Kentucky': 0.07692307692307693, 'location': 0.07692307692307693, 'Fred': 0.07692307692307693, 'man': 0.07692307692307693, 'Co': 0.07692307692307693, 'reference': 0.07692307692307693, 'resolution': 0.07692307692307693, 'identifying': 0.15384615384615385, 'refer': 0.07692307692307693, 'common': 0.07692307692307693, 'person': 0.15384615384615385, 'object': 0.07692307692307693, 'certain': 0.07692307692307693, 'pronoun': 0.07692307692307693, 'e.g.': 0.15384615384615385, 'Mary': 0.07692307692307693, 'involve': 0.07692307692307693, 'metaphor': 0.07692307692307693, 'idiom': 0.07692307692307693, 'instance': 0.07692307692307693, 'bear': 0.07692307692307693, 'animal': 0.07692307692307693, 'hairy': 0.07692307692307693, 'Sentiment': 0.07692307692307693, 'attempts': 0.07692307692307693, 'extract': 0.07692307692307693, 'subjective': 0.07692307692307693, 'qualities': 0.07692307692307693, 'attitudes': 0.07692307692307693, 'emotions': 0.07692307692307693, 'confusion': 0.07692307692307693, 'suspicion': 0.07692307692307693, 'generation': 0.07692307692307693, 'described': 0.07692307692307693, 'opposite': 0.07692307692307693, 'putting': 0.07692307692307693, 'structured': 0.07692307692307693, 'information': 0.07692307692307693}\n"
     ]
    }
   ],
   "source": [
    "print(word_freq)"
   ]
  },
  {
   "cell_type": "code",
   "execution_count": 12,
   "metadata": {},
   "outputs": [],
   "source": [
    "sent_tokens = [sent for sent in doc.sents]"
   ]
  },
  {
   "cell_type": "code",
   "execution_count": 13,
   "metadata": {},
   "outputs": [],
   "source": [
    "sent_score = {}\n",
    "\n",
    "for sent in sent_tokens:\n",
    "    for word in sent:\n",
    "        if word.text.lower() in word_freq.keys():\n",
    "            if sent not in sent_score.keys():\n",
    "                sent_score[sent] = word_freq[word.text.lower()]\n",
    "            else:\n",
    "                sent_score[sent] += word_freq[word.text.lower()]"
   ]
  },
  {
   "cell_type": "code",
   "execution_count": 14,
   "metadata": {},
   "outputs": [],
   "source": [
    "from heapq import nlargest"
   ]
  },
  {
   "cell_type": "code",
   "execution_count": 15,
   "metadata": {},
   "outputs": [],
   "source": [
    "summary = nlargest(n=round(len(sent_score) * 0.1), iterable=sent_score, key=sent_score.get)"
   ]
  },
  {
   "cell_type": "code",
   "execution_count": 16,
   "metadata": {},
   "outputs": [],
   "source": [
    "summary = [word.text for word in summary]\n",
    "final_summary = \" \".join(summary)"
   ]
  },
  {
   "cell_type": "code",
   "execution_count": 17,
   "metadata": {},
   "outputs": [
    {
     "name": "stdout",
     "output_type": "stream",
     "text": [
      "What makes speech recognition especially challenging is the way people talk—quickly, slurring words together, with varying emphasis and intonation, in different accents, and often using incorrect grammar.\n",
      "Part of speech tagging, also called grammatical tagging, is the process of determining the part of speech of a particular word or piece of text based on its use and context. Some of these tasks include the following:\n",
      "Speech recognition, also called speech-to-text, is the task of reliably converting voice data into text data.\n"
     ]
    }
   ],
   "source": [
    "print(final_summary)"
   ]
  }
 ],
 "metadata": {
  "kernelspec": {
   "display_name": "Python 3",
   "language": "python",
   "name": "python3"
  },
  "language_info": {
   "codemirror_mode": {
    "name": "ipython",
    "version": 3
   },
   "file_extension": ".py",
   "mimetype": "text/x-python",
   "name": "python",
   "nbconvert_exporter": "python",
   "pygments_lexer": "ipython3",
   "version": "3.11.2"
  },
  "orig_nbformat": 4
 },
 "nbformat": 4,
 "nbformat_minor": 2
}
